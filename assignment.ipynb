{
 "cells": [
  {
   "attachments": {},
   "cell_type": "markdown",
   "id": "96e4180d",
   "metadata": {},
   "source": [
    "# Part 1 - DSA\n",
    "### Problem 1 - Stack\n",
    "Implement a stack data structure in Python. The stack should support the following operations: <br>\n",
    "- push(item) - Add an item to the top of the stack.<br>\n",
    "- pop() - Remove and return the item on the top of the stack.<br>\n",
    "- peek() - Return the item on the top of the stack without removing it.<br>\n",
    "- is_empty() - Return True if the stack is empty, else False.\n"
   ]
  },
  {
   "cell_type": "code",
   "execution_count": 1,
   "metadata": {},
   "outputs": [],
   "source": [
    "class Node:\n",
    "    def __init__(self, data):\n",
    "        self.data = data\n",
    "        self.next = None\n",
    "        \n",
    "class Stack:\n",
    "    def __init__(self):\n",
    "        self.top = None\n",
    "        \n",
    "    def push(self, item):\n",
    "        new_node = Node(item)\n",
    "        new_node.next = self.top\n",
    "        self.top = new_node\n",
    "        \n",
    "    def pop(self):\n",
    "        if self.is_empty():\n",
    "            return None\n",
    "        item = self.top.data\n",
    "        self.top = self.top.next\n",
    "        return item\n",
    "    \n",
    "    def peek(self):\n",
    "        if self.is_empty():\n",
    "            return None\n",
    "        return self.top.data\n",
    "    \n",
    "    def is_empty(self):\n",
    "        return self.top is None\n"
   ]
  },
  {
   "attachments": {},
   "cell_type": "markdown",
   "id": "934113ad",
   "metadata": {},
   "source": [
    "Testing the stack class"
   ]
  },
  {
   "cell_type": "code",
   "execution_count": 3,
   "id": "c2bfbfd9",
   "metadata": {},
   "outputs": [
    {
     "name": "stdout",
     "output_type": "stream",
     "text": [
      "True\n",
      "7\n",
      "7\n",
      "25\n",
      "1\n",
      "False\n"
     ]
    }
   ],
   "source": [
    "stack = Stack()\n",
    "print(stack.is_empty())\n",
    "\n",
    "stack.push(12)\n",
    "stack.push(25)\n",
    "stack.push(7)\n",
    "print(stack.peek())  \n",
    "\n",
    "pop_element = stack.pop()\n",
    "print(pop_element)  \n",
    "print(stack.peek())  \n",
    "\n",
    "stack.push(1)\n",
    "print(stack.peek())  \n",
    "\n",
    "print(stack.is_empty())  \n"
   ]
  },
  {
   "cell_type": "code",
   "execution_count": null,
   "id": "d6402cdf",
   "metadata": {},
   "outputs": [],
   "source": []
  }
 ],
 "metadata": {
  "kernelspec": {
   "display_name": "nlp",
   "language": "python",
   "name": "nlp"
  },
  "language_info": {
   "codemirror_mode": {
    "name": "ipython",
    "version": 3
   },
   "file_extension": ".py",
   "mimetype": "text/x-python",
   "name": "python",
   "nbconvert_exporter": "python",
   "pygments_lexer": "ipython3",
   "version": "3.9.15"
  }
 },
 "nbformat": 4,
 "nbformat_minor": 5
}
