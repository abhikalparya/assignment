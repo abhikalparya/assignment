{
 "cells": [
  {
   "attachments": {},
   "cell_type": "markdown",
   "id": "96e4180d",
   "metadata": {},
   "source": [
    "# Part 1 - DSA\n",
    "### Problem 1 - Stack\n",
    "Implement a stack data structure in Python. The stack should support the following operations: <br>\n",
    "- push(item) - Add an item to the top of the stack.<br>\n",
    "- pop() - Remove and return the item on the top of the stack.<br>\n",
    "- peek() - Return the item on the top of the stack without removing it.<br>\n",
    "- is_empty() - Return True if the stack is empty, else False.\n"
   ]
  },
  {
   "cell_type": "code",
   "execution_count": 1,
   "metadata": {},
   "outputs": [],
   "source": [
    "class Node:\n",
    "    def __init__(self, data):\n",
    "        self.data = data\n",
    "        self.next = None\n",
    "        \n",
    "class Stack:\n",
    "    def __init__(self):\n",
    "        self.top = None\n",
    "        \n",
    "    def push(self, item):\n",
    "        new_node = Node(item)\n",
    "        new_node.next = self.top\n",
    "        self.top = new_node\n",
    "        \n",
    "    def pop(self):\n",
    "        if self.is_empty():\n",
    "            return None\n",
    "        item = self.top.data\n",
    "        self.top = self.top.next\n",
    "        return item\n",
    "    \n",
    "    def peek(self):\n",
    "        if self.is_empty():\n",
    "            return None\n",
    "        return self.top.data\n",
    "    \n",
    "    def is_empty(self):\n",
    "        return self.top is None\n"
   ]
  },
  {
   "attachments": {},
   "cell_type": "markdown",
   "id": "934113ad",
   "metadata": {},
   "source": [
    "Testing the stack class"
   ]
  },
  {
   "cell_type": "code",
   "execution_count": 3,
   "id": "c2bfbfd9",
   "metadata": {},
   "outputs": [
    {
     "name": "stdout",
     "output_type": "stream",
     "text": [
      "True\n",
      "7\n",
      "7\n",
      "25\n",
      "1\n",
      "False\n"
     ]
    }
   ],
   "source": [
    "stack = Stack()\n",
    "print(stack.is_empty())\n",
    "\n",
    "stack.push(12)\n",
    "stack.push(25)\n",
    "stack.push(7)\n",
    "print(stack.peek())  \n",
    "\n",
    "pop_element = stack.pop()\n",
    "print(pop_element)  \n",
    "print(stack.peek())  \n",
    "\n",
    "stack.push(1)\n",
    "print(stack.peek())  \n",
    "\n",
    "print(stack.is_empty())  \n"
   ]
  },
  {
   "attachments": {},
   "cell_type": "markdown",
   "id": "50eda899",
   "metadata": {},
   "source": [
    "### Problem 2 - Queue\n",
    "Implement a queue data structure in Python. The queue should support the following operations:<br>\n",
    "- enqueue(item) - Add an item to the back of the queue.<br>\n",
    "- dequeue() - Remove and return the item at the front of the queue.<br>\n",
    "- peek() - Return the item at the front of the queue without removing it.<br>\n",
    "- is_empty() - Return True if the queue is empty, else False.\n"
   ]
  },
  {
   "cell_type": "code",
   "execution_count": 4,
   "id": "d6402cdf",
   "metadata": {},
   "outputs": [],
   "source": [
    "class Node:\n",
    "    def __init__(self, data):\n",
    "        self.data = data\n",
    "        self.next = None\n",
    "        \n",
    "class Queue:\n",
    "    def __init__(self):\n",
    "        self.front = None\n",
    "        self.rear = None\n",
    "        \n",
    "    def enqueue(self, item):\n",
    "        new_node = Node(item)\n",
    "        if self.is_empty():\n",
    "            self.front = new_node\n",
    "            self.rear = new_node\n",
    "        else:\n",
    "            self.rear.next = new_node\n",
    "            self.rear = new_node\n",
    "        \n",
    "    def dequeue(self):\n",
    "        if self.is_empty():\n",
    "            return None\n",
    "        item = self.front.data\n",
    "        if self.front == self.rear:\n",
    "            self.front = None\n",
    "            self.rear = None\n",
    "        else:\n",
    "            self.front = self.front.next\n",
    "        return item\n",
    "    \n",
    "    def peek(self):\n",
    "        if self.is_empty():\n",
    "            return None\n",
    "        return self.front.data\n",
    "    \n",
    "    def is_empty(self):\n",
    "        return self.front is None\n"
   ]
  },
  {
   "attachments": {},
   "cell_type": "markdown",
   "id": "d0686a37",
   "metadata": {},
   "source": [
    "Testing the queue class"
   ]
  },
  {
   "cell_type": "code",
   "execution_count": 7,
   "id": "2b366ec3",
   "metadata": {},
   "outputs": [
    {
     "name": "stdout",
     "output_type": "stream",
     "text": [
      "1\n",
      "1\n",
      "2\n",
      "False\n",
      "2\n",
      "3\n",
      "True\n"
     ]
    }
   ],
   "source": [
    "queue = Queue()\n",
    "\n",
    "queue.enqueue(1)\n",
    "queue.enqueue(2)\n",
    "queue.enqueue(3)\n",
    "print(queue.peek()) \n",
    "\n",
    "print(queue.dequeue()) \n",
    "\n",
    "print(queue.peek()) \n",
    "\n",
    "print(queue.is_empty()) \n",
    "\n",
    "print(queue.dequeue()) \n",
    "print(queue.dequeue())  \n",
    "\n",
    "print(queue.is_empty()) "
   ]
  },
  {
   "attachments": {},
   "cell_type": "markdown",
   "id": "612f3be1",
   "metadata": {},
   "source": [
    "### Problem 3 - Binary Search Tree\n",
    "Implement a binary search tree (BST) data structure in Python. The BST should support the following operations:<br>\n",
    "- insert(item) - Insert an item into the tree.<br>\n",
    "- delete(item) - Remove an item from the tree.<br>\n",
    "- search(item) - Return True if the item is in the tree, else False.<br>\n",
    "- size() - Return the number of nodes in the tree.\n"
   ]
  },
  {
   "cell_type": "code",
   "execution_count": 8,
   "id": "f6331021",
   "metadata": {},
   "outputs": [],
   "source": [
    "class Node:\n",
    "    def __init__(self, value):\n",
    "        self.value = value\n",
    "        self.left = None\n",
    "        self.right = None\n",
    "\n",
    "class BST:\n",
    "    def __init__(self):\n",
    "        self.root = None\n",
    "        self.count = 0\n",
    "\n",
    "    def insert(self, value):\n",
    "        if not self.root:\n",
    "            self.root = Node(value)\n",
    "            self.count += 1\n",
    "        else:\n",
    "            self._insert(value, self.root)\n",
    "\n",
    "    def _insert(self, value, node):\n",
    "        if value < node.value:\n",
    "            if not node.left:\n",
    "                node.left = Node(value)\n",
    "                self.count += 1\n",
    "            else:\n",
    "                self._insert(value, node.left)\n",
    "        elif value > node.value:\n",
    "            if not node.right:\n",
    "                node.right = Node(value)\n",
    "                self.count += 1\n",
    "            else:\n",
    "                self._insert(value, node.right)\n",
    "\n",
    "    def delete(self, value):\n",
    "        if self.root:\n",
    "            self.root = self._delete(value, self.root)\n",
    "\n",
    "    def _delete(self, value, node):\n",
    "        if not node:\n",
    "            return None\n",
    "        if value < node.value:\n",
    "            node.left = self._delete(value, node.left)\n",
    "        elif value > node.value:\n",
    "            node.right = self._delete(value, node.right)\n",
    "        else:\n",
    "            if not node.left:\n",
    "                return node.right\n",
    "            elif not node.right:\n",
    "                return node.left\n",
    "            else:\n",
    "                temp = self._find_min(node.right)\n",
    "                node.value = temp.value\n",
    "                node.right = self._delete(temp.value, node.right)\n",
    "        return node\n",
    "\n",
    "    def _find_min(self, node):\n",
    "        while node.left:\n",
    "            node = node.left\n",
    "        return node\n",
    "\n",
    "    def search(self, value):\n",
    "        return self._search(value, self.root)\n",
    "\n",
    "    def _search(self, value, node):\n",
    "        if not node:\n",
    "            return False\n",
    "        if value == node.value:\n",
    "            return True\n",
    "        elif value < node.value:\n",
    "            return self._search(value, node.left)\n",
    "        else:\n",
    "            return self._search(value, node.right)\n",
    "\n",
    "    def size(self):\n",
    "        return self.count"
   ]
  },
  {
   "cell_type": "markdown",
   "metadata": {},
   "source": [
    "Testing the BST class"
   ]
  },
  {
   "cell_type": "code",
   "execution_count": 14,
   "id": "0eb52cac",
   "metadata": {},
   "outputs": [
    {
     "name": "stdout",
     "output_type": "stream",
     "text": [
      "7\n",
      "True\n",
      "False\n",
      "7\n"
     ]
    }
   ],
   "source": [
    "bst = BST()\n",
    "\n",
    "bst.insert(5)\n",
    "bst.insert(3)\n",
    "bst.insert(7)\n",
    "bst.insert(2)\n",
    "bst.insert(4)\n",
    "bst.insert(6)\n",
    "bst.insert(8)\n",
    "\n",
    "print(bst.size()) \n",
    "\n",
    "print(bst.search(6))  \n",
    "print(bst.search(9))  \n",
    "\n",
    "bst.delete(5)\n",
    "\n",
    "print(bst.size())  \n"
   ]
  },
  {
   "cell_type": "code",
   "execution_count": null,
   "id": "5fafb991",
   "metadata": {},
   "outputs": [],
   "source": []
  }
 ],
 "metadata": {
  "kernelspec": {
   "display_name": "nlp",
   "language": "python",
   "name": "nlp"
  },
  "language_info": {
   "codemirror_mode": {
    "name": "ipython",
    "version": 3
   },
   "file_extension": ".py",
   "mimetype": "text/x-python",
   "name": "python",
   "nbconvert_exporter": "python",
   "pygments_lexer": "ipython3",
   "version": "3.9.15"
  }
 },
 "nbformat": 4,
 "nbformat_minor": 5
}
