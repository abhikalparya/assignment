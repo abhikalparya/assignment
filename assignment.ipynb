{
 "cells": [
  {
   "attachments": {},
   "cell_type": "markdown",
   "id": "96e4180d",
   "metadata": {},
   "source": [
    "# Part 1 - DSA\n",
    "### Problem 1 - Stack\n",
    "Implement a stack data structure in Python. The stack should support the following operations: <br>\n",
    "- push(item) - Add an item to the top of the stack.<br>\n",
    "- pop() - Remove and return the item on the top of the stack.<br>\n",
    "- peek() - Return the item on the top of the stack without removing it.<br>\n",
    "- is_empty() - Return True if the stack is empty, else False.\n"
   ]
  },
  {
   "cell_type": "code",
   "execution_count": 1,
   "metadata": {},
   "outputs": [],
   "source": [
    "class Node:\n",
    "    def __init__(self, data):\n",
    "        self.data = data\n",
    "        self.next = None\n",
    "        \n",
    "class Stack:\n",
    "    def __init__(self):\n",
    "        self.top = None\n",
    "        \n",
    "    def push(self, item):\n",
    "        new_node = Node(item)\n",
    "        new_node.next = self.top\n",
    "        self.top = new_node\n",
    "        \n",
    "    def pop(self):\n",
    "        if self.is_empty():\n",
    "            return None\n",
    "        item = self.top.data\n",
    "        self.top = self.top.next\n",
    "        return item\n",
    "    \n",
    "    def peek(self):\n",
    "        if self.is_empty():\n",
    "            return None\n",
    "        return self.top.data\n",
    "    \n",
    "    def is_empty(self):\n",
    "        return self.top is None\n"
   ]
  },
  {
   "attachments": {},
   "cell_type": "markdown",
   "id": "934113ad",
   "metadata": {},
   "source": [
    "Testing the stack class"
   ]
  },
  {
   "cell_type": "code",
   "execution_count": 3,
   "id": "c2bfbfd9",
   "metadata": {},
   "outputs": [
    {
     "name": "stdout",
     "output_type": "stream",
     "text": [
      "True\n",
      "7\n",
      "7\n",
      "25\n",
      "1\n",
      "False\n"
     ]
    }
   ],
   "source": [
    "stack = Stack()\n",
    "print(stack.is_empty())\n",
    "\n",
    "stack.push(12)\n",
    "stack.push(25)\n",
    "stack.push(7)\n",
    "print(stack.peek())  \n",
    "\n",
    "pop_element = stack.pop()\n",
    "print(pop_element)  \n",
    "print(stack.peek())  \n",
    "\n",
    "stack.push(1)\n",
    "print(stack.peek())  \n",
    "\n",
    "print(stack.is_empty())  \n"
   ]
  },
  {
   "attachments": {},
   "cell_type": "markdown",
   "id": "50eda899",
   "metadata": {},
   "source": [
    "### Problem 2 - Queue\n",
    "Implement a queue data structure in Python. The queue should support the following operations:<br>\n",
    "- enqueue(item) - Add an item to the back of the queue.<br>\n",
    "- dequeue() - Remove and return the item at the front of the queue.<br>\n",
    "- peek() - Return the item at the front of the queue without removing it.<br>\n",
    "- is_empty() - Return True if the queue is empty, else False.\n"
   ]
  },
  {
   "cell_type": "code",
   "execution_count": 4,
   "id": "d6402cdf",
   "metadata": {},
   "outputs": [],
   "source": [
    "class Node:\n",
    "    def __init__(self, data):\n",
    "        self.data = data\n",
    "        self.next = None\n",
    "        \n",
    "class Queue:\n",
    "    def __init__(self):\n",
    "        self.front = None\n",
    "        self.rear = None\n",
    "        \n",
    "    def enqueue(self, item):\n",
    "        new_node = Node(item)\n",
    "        if self.is_empty():\n",
    "            self.front = new_node\n",
    "            self.rear = new_node\n",
    "        else:\n",
    "            self.rear.next = new_node\n",
    "            self.rear = new_node\n",
    "        \n",
    "    def dequeue(self):\n",
    "        if self.is_empty():\n",
    "            return None\n",
    "        item = self.front.data\n",
    "        if self.front == self.rear:\n",
    "            self.front = None\n",
    "            self.rear = None\n",
    "        else:\n",
    "            self.front = self.front.next\n",
    "        return item\n",
    "    \n",
    "    def peek(self):\n",
    "        if self.is_empty():\n",
    "            return None\n",
    "        return self.front.data\n",
    "    \n",
    "    def is_empty(self):\n",
    "        return self.front is None\n"
   ]
  },
  {
   "attachments": {},
   "cell_type": "markdown",
   "id": "d0686a37",
   "metadata": {},
   "source": [
    "Testing the queue class"
   ]
  },
  {
   "cell_type": "code",
   "execution_count": 7,
   "id": "2b366ec3",
   "metadata": {},
   "outputs": [
    {
     "name": "stdout",
     "output_type": "stream",
     "text": [
      "1\n",
      "1\n",
      "2\n",
      "False\n",
      "2\n",
      "3\n",
      "True\n"
     ]
    }
   ],
   "source": [
    "queue = Queue()\n",
    "\n",
    "queue.enqueue(1)\n",
    "queue.enqueue(2)\n",
    "queue.enqueue(3)\n",
    "print(queue.peek()) \n",
    "\n",
    "print(queue.dequeue()) \n",
    "\n",
    "print(queue.peek()) \n",
    "\n",
    "print(queue.is_empty()) \n",
    "\n",
    "print(queue.dequeue()) \n",
    "print(queue.dequeue())  \n",
    "\n",
    "print(queue.is_empty()) "
   ]
  },
  {
   "attachments": {},
   "cell_type": "markdown",
   "id": "612f3be1",
   "metadata": {},
   "source": [
    "### Problem 3 - Binary Search Tree\n",
    "Implement a binary search tree (BST) data structure in Python. The BST should support the following operations:<br>\n",
    "- insert(item) - Insert an item into the tree.<br>\n",
    "- delete(item) - Remove an item from the tree.<br>\n",
    "- search(item) - Return True if the item is in the tree, else False.<br>\n",
    "- size() - Return the number of nodes in the tree.\n"
   ]
  },
  {
   "cell_type": "code",
   "execution_count": 24,
   "id": "f757d55f",
   "metadata": {},
   "outputs": [],
   "source": [
    "class Node:\n",
    "    def __init__(self, value):\n",
    "        self.value = value\n",
    "        self.left = None\n",
    "        self.right = None\n",
    "\n",
    "class BST:\n",
    "    def __init__(self):\n",
    "        self.root = None\n",
    "        self.size = 0\n",
    "    \n",
    "    def insert(self, value):\n",
    "        if self.root is None:\n",
    "            self.root = Node(value)\n",
    "            self.size += 1\n",
    "        else:\n",
    "            curr_node = self.root\n",
    "            while True:\n",
    "                if value < curr_node.value:\n",
    "                    if curr_node.left is None:\n",
    "                        curr_node.left = Node(value)\n",
    "                        self.size += 1\n",
    "                        break\n",
    "                    else:\n",
    "                        curr_node = curr_node.left\n",
    "                else:\n",
    "                    if curr_node.right is None:\n",
    "                        curr_node.right = Node(value)\n",
    "                        self.size += 1\n",
    "                        break\n",
    "                    else:\n",
    "                        curr_node = curr_node.right\n",
    "    \n",
    "    def delete(self, value):\n",
    "        self.root = self._delete_helper(self.root, value)\n",
    "    \n",
    "    def _delete_helper(self, curr_node, value):\n",
    "        if curr_node is None:\n",
    "            return None\n",
    "        if value == curr_node.value:\n",
    "            if curr_node.left is None and curr_node.right is None:\n",
    "                return None\n",
    "            if curr_node.left is None:\n",
    "                return curr_node.right\n",
    "            if curr_node.right is None:\n",
    "                return curr_node.left\n",
    "            min_node = curr_node.right\n",
    "            while min_node.left is not None:\n",
    "                min_node = min_node.left\n",
    "            curr_node.value = min_node.value\n",
    "            curr_node.right = self._delete_helper(curr_node.right, min_node.value)\n",
    "            self.size -= 1\n",
    "        elif value < curr_node.value:\n",
    "            curr_node.left = self._delete_helper(curr_node.left, value)\n",
    "        else:\n",
    "            curr_node.right = self._delete_helper(curr_node.right, value)\n",
    "        return curr_node\n",
    "    \n",
    "    def search(self, value):\n",
    "        curr_node = self.root\n",
    "        while curr_node is not None:\n",
    "            if value == curr_node.value:\n",
    "                return True\n",
    "            elif value < curr_node.value:\n",
    "                curr_node = curr_node.left\n",
    "            else:\n",
    "                curr_node = curr_node.right\n",
    "        return False\n",
    "    \n",
    "    def size(self):\n",
    "        return self.size\n"
   ]
  },
  {
   "cell_type": "markdown",
   "metadata": {},
   "source": [
    "Testing the BST class"
   ]
  },
  {
   "cell_type": "code",
   "execution_count": 26,
   "id": "eb9aba28",
   "metadata": {},
   "outputs": [
    {
     "name": "stdout",
     "output_type": "stream",
     "text": [
      "True\n",
      "False\n",
      "False\n"
     ]
    }
   ],
   "source": [
    "bst = BST()\n",
    "bst.insert(5)\n",
    "bst.insert(3)\n",
    "bst.insert(7)\n",
    "print(bst.search(3)) # Output: True\n",
    "print(bst.search(6)) # Output: False\n",
    "bst.delete(5)\n",
    "print(bst.search(5)) # Output: False\n"
   ]
  },
  {
   "attachments": {},
   "cell_type": "markdown",
   "id": "bba137de",
   "metadata": {},
   "source": [
    "# Part 2 - Python\n",
    "### Problem 1 - Anagram Checker\n",
    "Write a Python function that takes in two strings and returns True if they are anagrams of each other, else False. An anagram is a word or phrase formed by rearranging the letters of a different word or phrase, typically using all the original letters exactly once.\n"
   ]
  },
  {
   "cell_type": "code",
   "execution_count": 27,
   "id": "590a3601",
   "metadata": {},
   "outputs": [],
   "source": [
    "def is_anagram(str1, str2):\n",
    "    str1 = str1.replace(\" \", \"\").lower()\n",
    "    str2 = str2.replace(\" \", \"\").lower()\n",
    "    \n",
    "    if len(str1) != len(str2):\n",
    "        return False\n",
    "    \n",
    "    sorted_str1 = sorted(str1)\n",
    "    sorted_str2 = sorted(str2)\n",
    "    \n",
    "    return sorted_str1 == sorted_str2"
   ]
  },
  {
   "attachments": {},
   "cell_type": "markdown",
   "id": "ce8b7dce",
   "metadata": {},
   "source": [
    "Testing the anagram checker\n"
   ]
  },
  {
   "cell_type": "code",
   "execution_count": 31,
   "id": "038e79d0",
   "metadata": {},
   "outputs": [
    {
     "data": {
      "text/plain": [
       "True"
      ]
     },
     "execution_count": 31,
     "metadata": {},
     "output_type": "execute_result"
    }
   ],
   "source": [
    "is_anagram(\"silent\", \"listen\")"
   ]
  },
  {
   "cell_type": "code",
   "execution_count": 32,
   "id": "98022999",
   "metadata": {},
   "outputs": [
    {
     "data": {
      "text/plain": [
       "False"
      ]
     },
     "execution_count": 32,
     "metadata": {},
     "output_type": "execute_result"
    }
   ],
   "source": [
    "is_anagram(\"hello\", \"world\")"
   ]
  },
  {
   "attachments": {},
   "cell_type": "markdown",
   "id": "fac5c225",
   "metadata": {},
   "source": [
    "### Problem 2 - FizzBuzz\n",
    "Write a Python function that takes in an integer n and prints the numbers from 1 to n. For multiples of 3, print \"Fizz\" instead of the number. For multiples of 5, print \"Buzz\" instead of the number. For multiples of both 3 and 5, print \"FizzBuzz\" instead of the number.\n"
   ]
  },
  {
   "cell_type": "code",
   "execution_count": 33,
   "id": "8842e081",
   "metadata": {},
   "outputs": [],
   "source": [
    "def fizzbuzz(n):\n",
    "    for i in range(1, n+1):\n",
    "        if i % 3 == 0 and i % 5 == 0:\n",
    "            print(\"FizzBuzz\")\n",
    "        elif i % 3 == 0:\n",
    "            print(\"Fizz\")\n",
    "        elif i % 5 == 0:\n",
    "            print(\"Buzz\")\n",
    "        else:\n",
    "            print(i)\n"
   ]
  },
  {
   "attachments": {},
   "cell_type": "markdown",
   "id": "01f7ef2f",
   "metadata": {},
   "source": [
    "Testing the FizzBuzz function"
   ]
  },
  {
   "cell_type": "code",
   "execution_count": 35,
   "id": "02fe1803",
   "metadata": {},
   "outputs": [
    {
     "name": "stdout",
     "output_type": "stream",
     "text": [
      "1\n",
      "2\n",
      "Fizz\n",
      "4\n",
      "Buzz\n",
      "Fizz\n",
      "7\n",
      "8\n",
      "Fizz\n",
      "Buzz\n",
      "11\n",
      "Fizz\n",
      "13\n",
      "14\n",
      "FizzBuzz\n"
     ]
    }
   ],
   "source": [
    "fizzbuzz(15)"
   ]
  },
  {
   "attachments": {},
   "cell_type": "markdown",
   "id": "80fb2894",
   "metadata": {},
   "source": [
    "### Problem 3 - Fibonacci Sequence\n",
    "Write a Python function that takes in an integer n and returns the nth number in the Fibonacci sequence. The Fibonacci sequence is a series of numbers in which each number after the first two is the sum of the two preceding ones.\n"
   ]
  },
  {
   "cell_type": "code",
   "execution_count": 36,
   "id": "0d37cc8f",
   "metadata": {},
   "outputs": [],
   "source": [
    "def fibonacci_of(n):\n",
    "    if n in {0, 1}:  # Base case\n",
    "         return n\n",
    "    return fibonacci_of(n - 1) + fibonacci_of(n - 2) "
   ]
  },
  {
   "attachments": {},
   "cell_type": "markdown",
   "id": "1d43cf41",
   "metadata": {},
   "source": [
    "Testing the Fibonacci function"
   ]
  },
  {
   "cell_type": "code",
   "execution_count": 37,
   "id": "909036d0",
   "metadata": {},
   "outputs": [
    {
     "data": {
      "text/plain": [
       "[0, 1, 1, 2, 3, 5, 8, 13, 21, 34, 55, 89, 144, 233, 377]"
      ]
     },
     "execution_count": 37,
     "metadata": {},
     "output_type": "execute_result"
    }
   ],
   "source": [
    "[fibonacci_of(n) for n in range(15)]"
   ]
  },
  {
   "cell_type": "code",
   "execution_count": null,
   "id": "b8a10fde",
   "metadata": {},
   "outputs": [],
   "source": []
  }
 ],
 "metadata": {
  "kernelspec": {
   "display_name": "nlp",
   "language": "python",
   "name": "nlp"
  },
  "language_info": {
   "codemirror_mode": {
    "name": "ipython",
    "version": 3
   },
   "file_extension": ".py",
   "mimetype": "text/x-python",
   "name": "python",
   "nbconvert_exporter": "python",
   "pygments_lexer": "ipython3",
   "version": "3.9.15"
  }
 },
 "nbformat": 4,
 "nbformat_minor": 5
}
